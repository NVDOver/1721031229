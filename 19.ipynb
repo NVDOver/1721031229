{
 "cells": [
  {
   "cell_type": "code",
   "execution_count": 3,
   "id": "30402fbb-ce24-4c9d-8d01-77abc8cb3178",
   "metadata": {},
   "outputs": [
    {
     "name": "stdout",
     "output_type": "stream",
     "text": [
      "Collecting opencv-python\n",
      "  Downloading opencv_python-4.10.0.84-cp37-abi3-win_amd64.whl.metadata (20 kB)\n",
      "Requirement already satisfied: numpy>=1.21.2 in c:\\programdata\\anaconda3\\lib\\site-packages (from opencv-python) (1.26.4)\n",
      "Downloading opencv_python-4.10.0.84-cp37-abi3-win_amd64.whl (38.8 MB)\n",
      "   ---------------------------------------- 0.0/38.8 MB ? eta -:--:--\n",
      "   ---------------------------------------- 0.0/38.8 MB 1.3 MB/s eta 0:00:31\n",
      "   ---------------------------------------- 0.2/38.8 MB 2.4 MB/s eta 0:00:16\n",
      "    --------------------------------------- 0.5/38.8 MB 4.8 MB/s eta 0:00:08\n",
      "   - -------------------------------------- 1.6/38.8 MB 10.0 MB/s eta 0:00:04\n",
      "   --- ------------------------------------ 3.2/38.8 MB 15.8 MB/s eta 0:00:03\n",
      "   ----- ---------------------------------- 5.2/38.8 MB 20.9 MB/s eta 0:00:02\n",
      "   ------- -------------------------------- 6.9/38.8 MB 23.1 MB/s eta 0:00:02\n",
      "   ------- -------------------------------- 7.2/38.8 MB 24.2 MB/s eta 0:00:02\n",
      "   ------- -------------------------------- 7.2/38.8 MB 24.2 MB/s eta 0:00:02\n",
      "   ------- -------------------------------- 7.2/38.8 MB 24.2 MB/s eta 0:00:02\n",
      "   ------- -------------------------------- 7.2/38.8 MB 24.2 MB/s eta 0:00:02\n",
      "   ------- -------------------------------- 7.2/38.8 MB 24.2 MB/s eta 0:00:02\n",
      "   ------- -------------------------------- 7.2/38.8 MB 24.2 MB/s eta 0:00:02\n",
      "   ------- -------------------------------- 7.2/38.8 MB 24.2 MB/s eta 0:00:02\n",
      "   ------- -------------------------------- 7.2/38.8 MB 24.2 MB/s eta 0:00:02\n",
      "   ------- -------------------------------- 7.2/38.8 MB 24.2 MB/s eta 0:00:02\n",
      "   ------- -------------------------------- 7.2/38.8 MB 24.2 MB/s eta 0:00:02\n",
      "   ------- -------------------------------- 7.2/38.8 MB 24.2 MB/s eta 0:00:02\n",
      "   ------- -------------------------------- 7.3/38.8 MB 8.5 MB/s eta 0:00:04\n",
      "   ------- -------------------------------- 7.4/38.8 MB 8.4 MB/s eta 0:00:04\n",
      "   ------- -------------------------------- 7.5/38.8 MB 8.0 MB/s eta 0:00:04\n",
      "   -------- ------------------------------- 8.3/38.8 MB 8.6 MB/s eta 0:00:04\n",
      "   ---------- ----------------------------- 10.0/38.8 MB 9.5 MB/s eta 0:00:04\n",
      "   ----------- ---------------------------- 10.7/38.8 MB 10.4 MB/s eta 0:00:03\n",
      "   ----------- ---------------------------- 11.6/38.8 MB 10.2 MB/s eta 0:00:03\n",
      "   ------------- -------------------------- 13.1/38.8 MB 10.4 MB/s eta 0:00:03\n",
      "   --------------- ------------------------ 15.0/38.8 MB 10.4 MB/s eta 0:00:03\n",
      "   ----------------- ---------------------- 16.9/38.8 MB 10.4 MB/s eta 0:00:03\n",
      "   ------------------ --------------------- 18.1/38.8 MB 29.7 MB/s eta 0:00:01\n",
      "   ------------------ --------------------- 18.1/38.8 MB 29.7 MB/s eta 0:00:01\n",
      "   ------------------ --------------------- 18.2/38.8 MB 23.4 MB/s eta 0:00:01\n",
      "   ---------------------- ----------------- 22.1/38.8 MB 32.8 MB/s eta 0:00:01\n",
      "   ------------------------ --------------- 23.5/38.8 MB 32.8 MB/s eta 0:00:01\n",
      "   ------------------------ --------------- 24.2/38.8 MB 31.2 MB/s eta 0:00:01\n",
      "   -------------------------- ------------- 25.4/38.8 MB 28.4 MB/s eta 0:00:01\n",
      "   --------------------------- ------------ 26.7/38.8 MB 27.3 MB/s eta 0:00:01\n",
      "   ---------------------------- ----------- 27.8/38.8 MB 25.1 MB/s eta 0:00:01\n",
      "   ---------------------------- ----------- 27.8/38.8 MB 25.1 MB/s eta 0:00:01\n",
      "   ------------------------------ --------- 29.3/38.8 MB 28.5 MB/s eta 0:00:01\n",
      "   ------------------------------ --------- 30.0/38.8 MB 26.2 MB/s eta 0:00:01\n",
      "   ------------------------------- -------- 30.6/38.8 MB 23.4 MB/s eta 0:00:01\n",
      "   ------------------------------- -------- 30.9/38.8 MB 21.9 MB/s eta 0:00:01\n",
      "   -------------------------------- ------- 31.4/38.8 MB 19.3 MB/s eta 0:00:01\n",
      "   -------------------------------- ------- 32.0/38.8 MB 18.2 MB/s eta 0:00:01\n",
      "   --------------------------------- ------ 32.6/38.8 MB 17.7 MB/s eta 0:00:01\n",
      "   ---------------------------------- ----- 33.1/38.8 MB 16.8 MB/s eta 0:00:01\n",
      "   ---------------------------------- ----- 33.7/38.8 MB 15.6 MB/s eta 0:00:01\n",
      "   ----------------------------------- ---- 34.3/38.8 MB 15.2 MB/s eta 0:00:01\n",
      "   ----------------------------------- ---- 34.8/38.8 MB 15.2 MB/s eta 0:00:01\n",
      "   ------------------------------------ --- 35.4/38.8 MB 14.2 MB/s eta 0:00:01\n",
      "   ------------------------------------- -- 36.0/38.8 MB 13.9 MB/s eta 0:00:01\n",
      "   ------------------------------------- -- 36.5/38.8 MB 13.6 MB/s eta 0:00:01\n",
      "   -------------------------------------- - 37.1/38.8 MB 13.1 MB/s eta 0:00:01\n",
      "   -------------------------------------- - 37.7/38.8 MB 12.6 MB/s eta 0:00:01\n",
      "   ---------------------------------------  38.3/38.8 MB 13.4 MB/s eta 0:00:01\n",
      "   ---------------------------------------  38.8/38.8 MB 12.6 MB/s eta 0:00:01\n",
      "   ---------------------------------------  38.8/38.8 MB 12.6 MB/s eta 0:00:01\n",
      "   ---------------------------------------  38.8/38.8 MB 12.6 MB/s eta 0:00:01\n",
      "   ---------------------------------------  38.8/38.8 MB 12.6 MB/s eta 0:00:01\n",
      "   ---------------------------------------  38.8/38.8 MB 12.6 MB/s eta 0:00:01\n",
      "   ---------------------------------------  38.8/38.8 MB 12.6 MB/s eta 0:00:01\n",
      "   ---------------------------------------  38.8/38.8 MB 12.6 MB/s eta 0:00:01\n",
      "   ---------------------------------------  38.8/38.8 MB 12.6 MB/s eta 0:00:01\n",
      "   ---------------------------------------  38.8/38.8 MB 12.6 MB/s eta 0:00:01\n",
      "   ---------------------------------------  38.8/38.8 MB 12.6 MB/s eta 0:00:01\n",
      "   ---------------------------------------  38.8/38.8 MB 12.6 MB/s eta 0:00:01\n",
      "   ---------------------------------------  38.8/38.8 MB 12.6 MB/s eta 0:00:01\n",
      "   ---------------------------------------- 38.8/38.8 MB 7.7 MB/s eta 0:00:00\n",
      "Installing collected packages: opencv-python\n",
      "Successfully installed opencv-python-4.10.0.84\n"
     ]
    }
   ],
   "source": [
    "!pip install opencv-python"
   ]
  },
  {
   "cell_type": "code",
   "execution_count": 3,
   "id": "346e2e65-3f72-44f4-b6ad-8d3b941c206a",
   "metadata": {},
   "outputs": [],
   "source": [
    "def display(title, img):\n",
    "    cv2.imshow(title, img)    \n",
    "    cv2.waitKey(0)\n",
    "    cv2.destroyWindow(title)"
   ]
  },
  {
   "cell_type": "code",
   "execution_count": 5,
   "id": "5e737fa0-b4e8-45b5-859b-8b9735a77b47",
   "metadata": {},
   "outputs": [],
   "source": [
    "import cv2"
   ]
  },
  {
   "cell_type": "code",
   "execution_count": 9,
   "id": "cf40af4c-fdc8-41e6-a580-cf4ee214090e",
   "metadata": {},
   "outputs": [
    {
     "name": "stdout",
     "output_type": "stream",
     "text": [
      "[[[145 141 132]\n",
      "  [ 61  56  52]\n",
      "  [ 48  43  40]\n",
      "  ...\n",
      "  [ 97 120 134]\n",
      "  [ 98 120 135]\n",
      "  [ 98 121 135]]\n",
      "\n",
      " [[ 88  83  77]\n",
      "  [ 48  43  40]\n",
      "  [ 48  43  40]\n",
      "  ...\n",
      "  [ 97 119 133]\n",
      "  [ 97 120 134]\n",
      "  [ 98 120 135]]\n",
      "\n",
      " [[ 48  43  40]\n",
      "  [ 48  43  40]\n",
      "  [ 48  43  40]\n",
      "  ...\n",
      "  [ 96 119 133]\n",
      "  [ 97 119 134]\n",
      "  [ 97 120 134]]\n",
      "\n",
      " ...\n",
      "\n",
      " [[ 31  30  29]\n",
      "  [ 30  30  29]\n",
      "  [ 30  29  29]\n",
      "  ...\n",
      "  [ 32  31  30]\n",
      "  [ 32  31  30]\n",
      "  [ 32  32  31]]\n",
      "\n",
      " [[ 31  30  29]\n",
      "  [ 31  30  29]\n",
      "  [ 30  30  29]\n",
      "  ...\n",
      "  [ 32  31  30]\n",
      "  [ 32  31  31]\n",
      "  [ 32  32  31]]\n",
      "\n",
      " [[ 31  30  29]\n",
      "  [ 31  30  29]\n",
      "  [ 31  30  29]\n",
      "  ...\n",
      "  [ 32  31  30]\n",
      "  [ 32  31  31]\n",
      "  [ 32  32  31]]]\n"
     ]
    }
   ],
   "source": [
    "path= './data/1.png'\n",
    "img = cv2.imread(path)\n",
    "print(img)"
   ]
  },
  {
   "cell_type": "code",
   "execution_count": 11,
   "id": "7aa5f10b-5d90-45d8-93ff-1407af545664",
   "metadata": {},
   "outputs": [
    {
     "name": "stdout",
     "output_type": "stream",
     "text": [
      "(449, 380, 3)\n",
      "449\n",
      "380\n",
      "3\n"
     ]
    }
   ],
   "source": [
    "print(img.shape)\n",
    "x, y, z = img.shape\n",
    "print(x)\n",
    "print(y)\n",
    "print(z)"
   ]
  },
  {
   "cell_type": "code",
   "execution_count": 13,
   "id": "7da073a9-264f-43ae-88b6-e9e1a3e9415a",
   "metadata": {},
   "outputs": [
    {
     "ename": "error",
     "evalue": "OpenCV(4.10.0) D:\\a\\opencv-python\\opencv-python\\opencv\\modules\\highgui\\src\\window_w32.cpp:1261: error: (-27:Null pointer) NULL window: 'Window' in function 'cvDestroyWindow'\n",
     "output_type": "error",
     "traceback": [
      "\u001b[1;31m---------------------------------------------------------------------------\u001b[0m",
      "\u001b[1;31merror\u001b[0m                                     Traceback (most recent call last)",
      "Cell \u001b[1;32mIn[13], line 3\u001b[0m\n\u001b[0;32m      1\u001b[0m cv2\u001b[38;5;241m.\u001b[39mimshow(\u001b[38;5;124m'\u001b[39m\u001b[38;5;124mWindow\u001b[39m\u001b[38;5;124m'\u001b[39m, img)\n\u001b[0;32m      2\u001b[0m cv2\u001b[38;5;241m.\u001b[39mwaitKey(\u001b[38;5;241m10000\u001b[39m)\n\u001b[1;32m----> 3\u001b[0m cv2\u001b[38;5;241m.\u001b[39mdestroyWindow(\u001b[38;5;124m'\u001b[39m\u001b[38;5;124mWindow\u001b[39m\u001b[38;5;124m'\u001b[39m)\n",
      "\u001b[1;31merror\u001b[0m: OpenCV(4.10.0) D:\\a\\opencv-python\\opencv-python\\opencv\\modules\\highgui\\src\\window_w32.cpp:1261: error: (-27:Null pointer) NULL window: 'Window' in function 'cvDestroyWindow'\n"
     ]
    }
   ],
   "source": [
    "cv2.imshow('Window', img)\n",
    "cv2.waitKey(10000)\n",
    "cv2.destroyWindow('Window')"
   ]
  },
  {
   "cell_type": "code",
   "execution_count": 15,
   "id": "a6f482f8-3d24-4904-9cc6-b8c7312ffa62",
   "metadata": {},
   "outputs": [],
   "source": [
    "b, g, r = cv2.split(img)\n",
    "cv2.imshow('Window', img)\n",
    "cv2.imshow('Red', r)\n",
    "cv2.imshow('Green', g)\n",
    "cv2.imshow('Blue', b)\n",
    "cv2.waitKey(0)\n",
    "cv2.destroyAllWindows()"
   ]
  },
  {
   "cell_type": "code",
   "execution_count": 17,
   "id": "d690afb8-2b64-40e4-a7d8-cdc0d2fb67e8",
   "metadata": {},
   "outputs": [],
   "source": [
    "gray_img = cv2.cvtColor(img, cv2.COLOR_BGR2GRAY)\n",
    "img_2 = cv2.cvtColor(img, cv2.COLOR_BGR2RGB)\n",
    "cv2.imshow('Window', img)\n",
    "cv2.imshow('gray_img', gray_img)\n",
    "cv2.imshow('img_2', img_2)\n",
    "cv2.waitKey(0)\n",
    "cv2.destroyAllWindows()"
   ]
  },
  {
   "cell_type": "code",
   "execution_count": 19,
   "id": "855b1c83-f848-4a6a-8eea-db26e0017b44",
   "metadata": {},
   "outputs": [
    {
     "ename": "error",
     "evalue": "OpenCV(4.10.0) D:\\a\\opencv-python\\opencv-python\\opencv\\modules\\highgui\\src\\window_w32.cpp:1261: error: (-27:Null pointer) NULL window: 'Window' in function 'cvDestroyWindow'\n",
     "output_type": "error",
     "traceback": [
      "\u001b[1;31m---------------------------------------------------------------------------\u001b[0m",
      "\u001b[1;31merror\u001b[0m                                     Traceback (most recent call last)",
      "Cell \u001b[1;32mIn[19], line 10\u001b[0m\n\u001b[0;32m      8\u001b[0m     \u001b[38;5;28;01mfor\u001b[39;00m x \u001b[38;5;129;01min\u001b[39;00m \u001b[38;5;28mrange\u001b[39m(\u001b[38;5;28mint\u001b[39m(quater_w)):\n\u001b[0;32m      9\u001b[0m         img2[y, x] \u001b[38;5;241m=\u001b[39m green_color\n\u001b[1;32m---> 10\u001b[0m display(\u001b[38;5;124m'\u001b[39m\u001b[38;5;124mWindow\u001b[39m\u001b[38;5;124m'\u001b[39m, img)\n\u001b[0;32m     11\u001b[0m display(\u001b[38;5;124m'\u001b[39m\u001b[38;5;124mWindow-2\u001b[39m\u001b[38;5;124m'\u001b[39m, img2)\n",
      "Cell \u001b[1;32mIn[3], line 4\u001b[0m, in \u001b[0;36mdisplay\u001b[1;34m(title, img)\u001b[0m\n\u001b[0;32m      2\u001b[0m cv2\u001b[38;5;241m.\u001b[39mimshow(title, img)    \n\u001b[0;32m      3\u001b[0m cv2\u001b[38;5;241m.\u001b[39mwaitKey(\u001b[38;5;241m0\u001b[39m)\n\u001b[1;32m----> 4\u001b[0m cv2\u001b[38;5;241m.\u001b[39mdestroyWindow(title)\n",
      "\u001b[1;31merror\u001b[0m: OpenCV(4.10.0) D:\\a\\opencv-python\\opencv-python\\opencv\\modules\\highgui\\src\\window_w32.cpp:1261: error: (-27:Null pointer) NULL window: 'Window' in function 'cvDestroyWindow'\n"
     ]
    }
   ],
   "source": [
    "height, width, z = img.shape\n",
    "quater_h = height/2\n",
    "quater_w = width/2\n",
    "green_color = (0,255,0)\n",
    "img2 = img.copy()\n",
    "\n",
    "for y in range(int(quater_h)):\n",
    "    for x in range(int(quater_w)):\n",
    "        img2[y, x] = green_color\n",
    "display('Window', img)\n",
    "display('Window-2', img2)"
   ]
  },
  {
   "cell_type": "code",
   "execution_count": null,
   "id": "eaadaf98-c9b3-40f8-a29e-0d33f6e31092",
   "metadata": {},
   "outputs": [],
   "source": []
  }
 ],
 "metadata": {
  "kernelspec": {
   "display_name": "Python 3 (ipykernel)",
   "language": "python",
   "name": "python3"
  },
  "language_info": {
   "codemirror_mode": {
    "name": "ipython",
    "version": 3
   },
   "file_extension": ".py",
   "mimetype": "text/x-python",
   "name": "python",
   "nbconvert_exporter": "python",
   "pygments_lexer": "ipython3",
   "version": "3.12.4"
  }
 },
 "nbformat": 4,
 "nbformat_minor": 5
}

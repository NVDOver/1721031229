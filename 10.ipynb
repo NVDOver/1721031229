{
 "cells": [
  {
   "cell_type": "code",
   "execution_count": 1,
   "id": "eb98fb3e-18b0-4965-b823-e7a4c64e5b3a",
   "metadata": {},
   "outputs": [],
   "source": [
    "from PIL import Image\n",
    "import matplotlib.pyplot as plt"
   ]
  },
  {
   "cell_type": "code",
   "execution_count": 3,
   "id": "1c0c96d0-cd1e-4d96-8b70-9d0d60f447af",
   "metadata": {},
   "outputs": [],
   "source": [
    "url = 'C:/Pictures/8.jpg'"
   ]
  },
  {
   "cell_type": "code",
   "execution_count": 5,
   "id": "1f6c29cb-2e69-4494-b548-ef413f06fcfc",
   "metadata": {},
   "outputs": [
    {
     "name": "stdout",
     "output_type": "stream",
     "text": [
      "[(198.85483870967747, 180.2258064516128), (616.9193548387098, 278.9354838709677), (858.8548387096776, 288.61290322580635), (992.4032258064517, 455.06451612903214), (247.241935483871, 356.3548387096773)]\n"
     ]
    },
    {
     "data": {
      "text/plain": [
       "<function matplotlib.pyplot.show(*, block=None)>"
      ]
     },
     "execution_count": 5,
     "metadata": {},
     "output_type": "execute_result"
    }
   ],
   "source": [
    "im = Image.open(url)\n",
    "\n",
    "plt.switch_backend(\"tkagg\")\n",
    "plt.imshow(im)\n",
    "points = plt.ginput(5)\n",
    "print(points)\n",
    "plt.show"
   ]
  },
  {
   "cell_type": "code",
   "execution_count": 7,
   "id": "e603d31c-7cda-40d1-9b5e-57a497cce451",
   "metadata": {},
   "outputs": [],
   "source": [
    "plt.close()\n",
    "\n",
    "plt.imshow(im)\n",
    "for point in points:\n",
    "    x, y = point\n",
    "    plt.plot(x,y, 'r*')\n",
    "\n",
    "plt.show()"
   ]
  },
  {
   "cell_type": "code",
   "execution_count": null,
   "id": "c4fc1640-e8d0-4bd4-af6f-0582acb34b77",
   "metadata": {},
   "outputs": [],
   "source": []
  }
 ],
 "metadata": {
  "kernelspec": {
   "display_name": "Python 3 (ipykernel)",
   "language": "python",
   "name": "python3"
  },
  "language_info": {
   "codemirror_mode": {
    "name": "ipython",
    "version": 3
   },
   "file_extension": ".py",
   "mimetype": "text/x-python",
   "name": "python",
   "nbconvert_exporter": "python",
   "pygments_lexer": "ipython3",
   "version": "3.12.4"
  }
 },
 "nbformat": 4,
 "nbformat_minor": 5
}
